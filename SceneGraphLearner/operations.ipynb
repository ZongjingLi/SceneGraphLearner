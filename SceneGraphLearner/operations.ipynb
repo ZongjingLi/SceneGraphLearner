{
 "cells": [
  {
   "cell_type": "code",
   "execution_count": 21,
   "metadata": {},
   "outputs": [],
   "source": [
    "import torch\n",
    "import torch.nn as nn\n",
    "import torch.nn.functional as F\n",
    "\n",
    "from config import *\n",
    "from models import *\n",
    "from datasets import *"
   ]
  },
  {
   "cell_type": "code",
   "execution_count": 22,
   "metadata": {},
   "outputs": [],
   "source": [
    "config.perception = \"valkyr\"\n",
    "#config.itrs = 1\n",
    "model = SceneLearner(config)\n",
    "model.scene_perception = ValkyrNet(config)\n",
    "model = torch.load(\"checkpoints/sprites_temp.ckpt\",map_location=\"cpu\")\n",
    "\n",
    "spnet = model.scene_perception\n",
    "\n",
    "#spnet.spatial_coords = None\n",
    "#spnet.spatial_fourier_features = None\n",
    "#spnet.spatial_edges =  None\n",
    "\n",
    "torch.save(model,\"optmodel.ckpt\")\n",
    "\n"
   ]
  },
  {
   "cell_type": "code",
   "execution_count": 23,
   "metadata": {},
   "outputs": [
    {
     "data": {
      "text/plain": [
       "<matplotlib.image.AxesImage at 0x2a66abee0>"
      ]
     },
     "execution_count": 23,
     "metadata": {},
     "output_type": "execute_result"
    },
    {
     "data": {
      "image/png": "[encoded data removed]",
      "text/plain": [
       "<Figure size 432x288 with 1 Axes>"
      ]
     },
     "metadata": {
      "needs_background": "light"
     },
     "output_type": "display_data"
    }
   ],
   "source": [
    "B = 1\n",
    "shuffle = 1\n",
    "#dataset = ToyDataWithQuestions(split = \"train\", resolution = (128,128))\n",
    "dataset = SpriteWithQuestions(resolution = (128,128))\n",
    "dataloader = DataLoader(dataset, batch_size = B, shuffle = shuffle)\n",
    "\n",
    "# [Get A Sample Data]\n",
    "for sample in dataloader:\n",
    "    sample = sample\n",
    "plt.axis(\"off\")\n",
    "plt.imshow(sample[\"image\"][0])"
   ]
  },
  {
   "cell_type": "code",
   "execution_count": 31,
   "metadata": {},
   "outputs": [
    {
     "name": "stdout",
     "output_type": "stream",
     "text": [
      "Convs: 0:00:00.224335\n",
      "GraphConvs: 0:00:01.117623\n",
      "Render: 0:00:00.025466\n",
      "Recons: 0:00:00.000515\n"
     ]
    }
   ],
   "source": [
    "with torch.no_grad():\n",
    "    perception_outputs = model.scene_perception(sample[\"image\"], test = True)\n"
   ]
  },
  {
   "cell_type": "code",
   "execution_count": 25,
   "metadata": {},
   "outputs": [],
   "source": [
    "class Convs(nn.Module):\n",
    "    def __init__(self, in_dim, out_dim, latent_dim = 128):\n",
    "        super().__init__()\n",
    "        self.pre = nn.Conv2d(in_dim, latent_dim,5,1,2)\n",
    "        self.conv_modules = nn.ModuleList([\n",
    "            nn.Conv2d(latent_dim, latent_dim,5,1,2) for _ in range(4)\n",
    "        ])\n",
    "        self.after = nn.Conv2d(latent_dim, out_dim,5,1,2)\n",
    "    def forward(self,x):\n",
    "        x = self.pre(x)\n",
    "        for module in self.conv_modules:\n",
    "            x = module(x)\n",
    "        x = self.after(x)\n",
    "        return x\n",
    "cvs = Convs(3,10)"
   ]
  },
  {
   "cell_type": "code",
   "execution_count": 29,
   "metadata": {},
   "outputs": [
    {
     "name": "stdout",
     "output_type": "stream",
     "text": [
      "torch.Size([1, 3, 128, 128])\n",
      "torch.Size([1, 10, 128, 128])\n"
     ]
    }
   ],
   "source": [
    "\n",
    "inputs = sample[\"image\"].permute(0,3,1,2)\n",
    "print(inputs.shape)\n",
    "outputs = cvs(inputs)\n",
    "print(outputs.shape)"
   ]
  },
  {
   "cell_type": "code",
   "execution_count": 32,
   "metadata": {},
   "outputs": [
    {
     "data": {
      "image/png": "[encoded data removed]",
      "text/plain": [
       "<Figure size 1152x144 with 5 Axes>"
      ]
     },
     "metadata": {
      "needs_background": "light"
     },
     "output_type": "display_data"
    }
   ],
   "source": [
    "\n",
    "\n",
    "def calculate_masks(scores, connections):\n",
    "    all_masks = []\n",
    "    for i in range(len(connections)):\n",
    "        curr_mask = scores[i+1].unsqueeze(-1)\n",
    "        for connection in reversed(connections[:i+1]):\n",
    "            curr_mask = torch.bmm(connection, curr_mask) # [BxNxM],[BxM]\n",
    "        all_masks.append(curr_mask)\n",
    "    return all_masks\n",
    "\n",
    "\n",
    "\n",
    "def display_batch(sample,outputs,batch = 0,file_name = \"temp.png\"):\n",
    "    \n",
    "    B, W, H, C = sample[\"image\"].shape\n",
    "\n",
    "    count = 0\n",
    "    for i, masks in enumerate(reversed(outputs[\"masks\"])):\n",
    "        B, N, K = masks.shape\n",
    "        count += 1\n",
    "        plt.figure(\"display_{}\".format(i), figsize=(K * 4, 2))\n",
    "        \n",
    "        plt.subplot(1, K + 1, 1)\n",
    "        plt.axis(\"off\")\n",
    "        plt.imshow(sample[\"image\"][0].permute(1,0,2))\n",
    "\n",
    "        layer_connection = outputs[\"scene_tree\"][\"edges\"][-i-1][batch].detach()\n",
    "        poses = outputs[\"poses\"][-i-1][\"centers\"][batch].detach()\n",
    "        #poses[:] = 1 - poses[:]\n",
    "    \n",
    "        for i in range(K):\n",
    "            for j in range(K):\n",
    "                plt.plot((W*poses[i,0],W*poses[j,0]),\\\n",
    "                         (H*poses[i,1],H*poses[j,1]),color = \"red\",\\\n",
    "                             alpha = 1.0 #float(layer_connection[i][j].clamp(0.0,1.0))\n",
    "                    )\n",
    "        plt.scatter(poses[:,0] * W, poses[:,1] * H, c = \"cyan\")\n",
    "\n",
    "        for j in range(K):\n",
    "            plt.subplot(1, K + 1, 2 + j)\n",
    "            plt.axis(\"off\")\n",
    "            plt.imshow(masks.detach()[batch][:,j].reshape(W,H).permute(1,0), cmap=\"bone\")\n",
    "            plt.scatter(poses[j,0] * W, poses[j,1] * H, c = \"cyan\")\n",
    "        plt.savefig(\"outputs/display_{}.png\".format(count))\n",
    "\n",
    "display_batch(sample,perception_outputs)\n",
    "plt.show()"
   ]
  },
  {
   "cell_type": "code",
   "execution_count": 28,
   "metadata": {},
   "outputs": [
    {
     "name": "stdout",
     "output_type": "stream",
     "text": [
      "{'pos': (0, 0), 'height': 141}\n"
     ]
    },
    {
     "data": {
      "image/png": "[encoded data removed]",
      "text/plain": [
       "<Figure size 432x288 with 1 Axes>"
      ]
     },
     "metadata": {
      "needs_background": "light"
     },
     "output_type": "display_data"
    }
   ],
   "source": [
    "from Karanir.algs.graph import *\n",
    "import matplotlib.pyplot as plt\n",
    "\n",
    "gridworld = GridGraph(16,32)\n",
    "\n",
    "def test_metric(a,b):return abs(a[\"height\"]+b[\"height\"])+0.1\n",
    "gridworld.metric = test_metric\n",
    "\n",
    "for node in gridworld.nodes:\n",
    "    gridworld.node_attributes[node][\"height\"] = np.random.randint(0,400)\n",
    "\n",
    "dists, path = gridworld.bellman_ford((5,8), to=(12,22))\n",
    "\n",
    "def gridworld_color_map(node):\n",
    "    return node[\"height\"]\n",
    "render_results = gridworld.render(path,cmap = gridworld_color_map)\n",
    "\n",
    "plt.imshow(render_results, cmap=\"rainbow\")\n",
    "plt.show()\n",
    "\n"
   ]
  },
  {
   "cell_type": "code",
   "execution_count": null,
   "metadata": {},
   "outputs": [],
   "source": [
    "from torchvision.models.optical_flow import raft_large, Raft_Large_Weights\n",
    "\n",
    "# If you can, run this example on a GPU, it will be a lot faster.\n",
    "device = \"cuda\" if torch.cuda.is_available() else \"cpu\"\n",
    "\n",
    "weights = Raft_Large_Weights.DEFAULT\n",
    "transforms = weights.transforms()\n",
    "\n",
    "\n",
    "def preprocess(img1_batch, img2_batch, resolution = (128,128)):\n",
    "    img1_batch = F.resize(img1_batch, size=resolution, antialias=False)\n",
    "    img2_batch = F.resize(img2_batch, size=resolution, antialias=False)\n",
    "    return transforms(img1_batch, img2_batch)\n",
    "\n",
    "\n",
    "img1_batch, img2_batch = preprocess(img1_batch, img2_batch)\n",
    "\n",
    "model = raft_large(weights=Raft_Large_Weights.DEFAULT, progress=False).to(device)\n",
    "model = model.eval()\n",
    "\n",
    "list_of_flows = model(img1_batch.to(device), img2_batch.to(device))"
   ]
  }
 ],
 "metadata": {
  "interpreter": {
   "hash": "a47e46093c771f9510c4aabf3710bfb1355e5f870a13f8c22092f45d4d23626d"
  },
  "kernelspec": {
   "display_name": "Python 3.9.13 ('Melkor')",
   "language": "python",
   "name": "python3"
  },
  "language_info": {
   "codemirror_mode": {
    "name": "ipython",
    "version": 3
   },
   "file_extension": ".py",
   "mimetype": "text/x-python",
   "name": "python",
   "nbconvert_exporter": "python",
   "pygments_lexer": "ipython3",
   "version": "3.9.13"
  },
  "orig_nbformat": 4
 },
 "nbformat": 4,
 "nbformat_minor": 2
}
