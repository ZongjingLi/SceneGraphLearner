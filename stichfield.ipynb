{
 "cells": [
  {
   "cell_type": "code",
   "execution_count": 672,
   "metadata": {},
   "outputs": [],
   "source": [
    "import torch\n",
    "from config import *"
   ]
  },
  {
   "cell_type": "code",
   "execution_count": 673,
   "metadata": {},
   "outputs": [],
   "source": [
    "from datasets import *\n",
    "B = 2\n",
    "shuffle = 1\n",
    "#dataset = ToyDataWithQuestions(split = \"train\", resolution = (128,128))\n",
    "dataset = SpriteWithQuestions(resolution = (128,128))\n",
    "dataloader = DataLoader(dataset, batch_size = B, shuffle = shuffle)\n"
   ]
  },
  {
   "cell_type": "code",
   "execution_count": 674,
   "metadata": {},
   "outputs": [
    {
     "data": {
      "text/plain": [
       "<matplotlib.image.AxesImage at 0x28da186a0>"
      ]
     },
     "execution_count": 674,
     "metadata": {},
     "output_type": "execute_result"
    },
    {
     "data": {
      "image/png": "[encoded data removed]",
      "text/plain": [
       "<Figure size 432x288 with 1 Axes>"
      ]
     },
     "metadata": {
      "needs_background": "light"
     },
     "output_type": "display_data"
    }
   ],
   "source": [
    "# [Get A Sample Data]\n",
    "for sample in dataloader:\n",
    "    sample = sample\n",
    "plt.axis(\"off\")\n",
    "plt.imshow(sample[\"image\"][0])"
   ]
  },
  {
   "cell_type": "code",
   "execution_count": null,
   "metadata": {},
   "outputs": [],
   "source": []
  },
  {
   "cell_type": "code",
   "execution_count": 675,
   "metadata": {},
   "outputs": [
    {
     "data": {
      "text/plain": [
       "[{'question': ['not generated yet.',\n",
       "   'not generated yet.',\n",
       "   'not generated yet.',\n",
       "   'not generated yet.'],\n",
       "  'program': ['exist(filter(scene(),Circle))',\n",
       "   'exist(filter(scene(),Cube))',\n",
       "   'exist(filter(scene(),Diamond))',\n",
       "   'count(scene())'],\n",
       "  'answer': ['False', 'True', 'True', '2']},\n",
       " {'question': ['not generated yet.',\n",
       "   'not generated yet.',\n",
       "   'not generated yet.',\n",
       "   'not generated yet.'],\n",
       "  'program': ['exist(filter(scene(),Circle))',\n",
       "   'exist(filter(scene(),Cube))',\n",
       "   'exist(filter(scene(),Diamond))',\n",
       "   'count(scene())'],\n",
       "  'answer': ['True', 'True', 'True', '3']}]"
      ]
     },
     "execution_count": 675,
     "metadata": {},
     "output_type": "execute_result"
    }
   ],
   "source": [
    "def collect_qa_batch(batch_qa):\n",
    "    batch_wise_qa = []\n",
    "    \n",
    "    for b in range(len(batch_qa[0][\"program\"])):\n",
    "        questions_in_batch = {\"question\":[],\"program\":[],\"answer\":[]}\n",
    "        for qpair in batch_qa:\n",
    "\n",
    "            try:questions_in_batch[\"question\"].append(qpair[\"question\"][b])\n",
    "            except: questions_in_batch[\"question\"].append(\"not generated yet.\")\n",
    "            questions_in_batch[\"program\"].append(qpair[\"program\"][b])\n",
    "            questions_in_batch[\"answer\"].append(qpair[\"answer\"][b])\n",
    "        batch_wise_qa.append(questions_in_batch)\n",
    "    return batch_wise_qa\n",
    "\n",
    "collect_qa_batch(sample[\"question\"])"
   ]
  },
  {
   "cell_type": "code",
   "execution_count": 676,
   "metadata": {},
   "outputs": [],
   "source": [
    "def visualize_tree(scores, connections, scale = 1.2):\n",
    "    fig = plt.figure(\"tree-visualize\",frameon = False)\n",
    "    plt.tick_params(left = False, right = False , labelleft = False ,\n",
    "                labelbottom = False, bottom = False)\n",
    "    plt.axis(\"off\")\n",
    "    x_locs = []; y_locs = []\n",
    "    for i,score in enumerate(reversed(scores)):\n",
    "        num_nodes = len(score)\n",
    "        # calculate scores each node\n",
    "        #print(score.sigmoid())\n",
    "        #score = (score.sigmoid() + 0.5).int()\n",
    "        #scores = score.sigmoid()\n",
    "        score = torch.clamp(score,0.05,1)\n",
    "\n",
    "        y_positions = [-scale*(i+1) / 2.0] * num_nodes\n",
    "        x_positions = np.linspace(-scale**(i+1), scale**(i+1), num_nodes)\n",
    "        if num_nodes == 1: x_positions = [0.0]\n",
    "        x_locs.append(x_positions); y_locs.append(y_positions)\n",
    "        \n",
    "        plt.scatter(x_positions, y_positions, alpha = score, color = 'white', linewidths=2.0)\n",
    "    for k,connection in enumerate(reversed(connections)):\n",
    "        connection = connection\n",
    "        \n",
    "        lower_node_num = len(x_locs[k])\n",
    "        upper_node_num = len(x_locs[k+1])\n",
    "        for i in range(lower_node_num):\n",
    "            for j in range(upper_node_num):\n",
    "                plt.plot( [x_locs[k][i],x_locs[k+1][j]], [y_locs[k][i], y_locs[k+1][j]], color = \"white\" ,alpha = float(connection[j][i]))\n",
    "    plt.tick_params(left = False, right = False , labelleft = False ,\n",
    "                labelbottom = False, bottom = False)\n",
    "\n",
    "def answer_distribution_binary(score, name = \"answer_distribution\"):\n",
    "    batch_size = 1\n",
    "    score_size = 4\n",
    "\n",
    "    row = batch_size * score_size \n",
    "    col = row / 2\n",
    "\n",
    "    scores = [score, 1 - score]\n",
    "\n",
    "    plt.figure(\"dists\", frameon = False, figsize = (row,col))\n",
    "    plt.tick_params(left = True, right = False , labelleft = True ,\n",
    "                labelbottom = True, bottom = True)\n",
    "    plt.cla()\n",
    "    \n",
    "    for i in range(batch_size):\n",
    "        plt.subplot(1,batch_size,i + 1,frameon=False)\n",
    "        plt.cla()\n",
    "\n",
    "        \n",
    "        keys = [\"yes\",\"no\"]\n",
    "        plt.bar(keys,scores)\n",
    "        plt.tick_params(left = True, right = False , labelleft = True ,\n",
    "                labelbottom = True, bottom = True)\n",
    "\n",
    "    plt.savefig(\"outputs/{}.png\".format(name))"
   ]
  },
  {
   "cell_type": "code",
   "execution_count": 677,
   "metadata": {},
   "outputs": [],
   "source": [
    "config.perception = \"valkyr\"\n",
    "model = SceneLearner(config)\n"
   ]
  },
  {
   "cell_type": "code",
   "execution_count": 678,
   "metadata": {},
   "outputs": [],
   "source": [
    "def evaluate_pose(x, att):\n",
    "    x = x.permute(0,2,1)\n",
    "    # x: B3N, att: B1KN1\n",
    "    # ts: B3k1\n",
    "    pai = att.sum(dim=3, keepdim=True) # B1K11\n",
    "    att = att / torch.clamp(pai, min=1e-3)\n",
    "    ts = torch.sum(\n",
    "        att * x[:, :, None, :, None], dim=3) # B3K1\n",
    "    return ts\n",
    "\n",
    "def equillibrium_loss(att):\n",
    "    pai = att.sum(dim=3, keepdim=True) # B1K11\n",
    "    loss_att_amount = torch.var(pai.reshape(pai.shape[0], -1), dim=1).mean()\n",
    "    return loss_att_amount\n",
    "\n",
    "\n",
    "def spatial_variance(x, att, norm_type=\"l2\"):\n",
    "    \n",
    "    pai = att.sum(dim=3, keepdim=True) # B1K11\n",
    "    att = att / torch.clamp(pai, min=1e-3)\n",
    "    ts = torch.sum(\n",
    "        att * x[:, :, None, :, None], dim=3) # B3K1\n",
    "\n",
    "    x_centered = x[:, :, None] - ts # B3KN\n",
    "    x_centered = x_centered.permute(0, 2, 3, 1) # BKN3\n",
    "    att = att.squeeze(1) # BKN1\n",
    "    cov = torch.matmul(\n",
    "        x_centered.transpose(3, 2), att * x_centered) # BK33\n",
    "    \n",
    "    # l2 norm\n",
    "    vol = torch.diagonal(cov, dim1=-2, dim2=-1).sum(2) # BK\n",
    "    if norm_type == \"l2\":\n",
    "        vol = vol.norm(dim=1).mean()\n",
    "    elif norm_type == \"l1\":\n",
    "        vol = vol.sum(dim=1).mean()\n",
    "    else:\n",
    "        # vol, _ = torch.diagonal(cov, dim1=-2, dim2=-1).sum(2).max(dim=1)\n",
    "        raise NotImplementedError\n",
    "    return vol"
   ]
  },
  {
   "cell_type": "code",
   "execution_count": 679,
   "metadata": {},
   "outputs": [],
   "source": [
    "import torch\n",
    "import torch.nn as nn\n",
    "from types import SimpleNamespace\n",
    "\n",
    "def evaluate_pose(x, att):\n",
    "    # x: B3N, att: B1KN1\n",
    "    # ts: B3k1\n",
    "    pai = att.sum(dim=3, keepdim=True) # B1K11\n",
    "    att = att / torch.clamp(pai, min=1e-3)\n",
    "    ts = torch.sum(\n",
    "        att * x[:, :, None, :, None], dim=3) # B3K1\n",
    "    return ts\n",
    "\n",
    "def equillibrium_loss(att):\n",
    "    pai = att.sum(dim=3, keepdim=True) # B1K11\n",
    "    loss_att_amount = torch.var(pai.reshape(pai.shape[0], -1), dim=1).mean()\n",
    "    return loss_att_amount\n",
    "\n",
    "\n",
    "def spatial_variance(x, att, norm_type=\"l2\"):\n",
    "    pai = att.sum(dim=3, keepdim=True) # B1K11\n",
    "    att = att / torch.clamp(pai, min=1e-3)\n",
    "    ts = torch.sum(\n",
    "        att * x[:, :, None, :, None], dim=3) # B3K1\n",
    "\n",
    "    x_centered = x[:, :, None] - ts # B3KN\n",
    "    x_centered = x_centered.permute(0, 2, 3, 1) # BKN3\n",
    "    att = att.squeeze(1) # BKN1\n",
    "    cov = torch.matmul(\n",
    "        x_centered.transpose(3, 2), att * x_centered) # BK33\n",
    "    \n",
    "    # l2 norm\n",
    "    vol = torch.diagonal(cov, dim1=-2, dim2=-1).sum(2) # BK\n",
    "    if norm_type == \"l2\":\n",
    "        vol = vol.norm(dim=1).mean()\n",
    "    elif norm_type == \"l1\":\n",
    "        vol = vol.sum(dim=1).mean()\n",
    "    else:\n",
    "        # vol, _ = torch.diagonal(cov, dim1=-2, dim2=-1).sum(2).max(dim=1)\n",
    "        raise NotImplementedError\n",
    "    return vol\n",
    "\n",
    "class RDB_Conv(nn.Module):\n",
    "    def __init__(self, inChannels, growRate, kSize=3):\n",
    "        super(RDB_Conv, self).__init__()\n",
    "        Cin = inChannels\n",
    "        G  = growRate\n",
    "        self.conv = nn.Sequential(*[\n",
    "            nn.Conv2d(Cin, G, kSize, padding=(kSize-1)//2, stride=1),\n",
    "            nn.ReLU(),\n",
    "        ])\n",
    "\n",
    "    def forward(self, x):\n",
    "        out = self.conv(x)\n",
    "        return torch.cat((x, out), 1)\n",
    "\n",
    "class RDB(nn.Module):\n",
    "    def __init__(self, growRate0, growRate, nConvLayers, kSize=3):\n",
    "        super(RDB, self).__init__()\n",
    "        G0 = growRate0\n",
    "        G  = growRate\n",
    "        C  = nConvLayers\n",
    "\n",
    "        convs = []\n",
    "        for c in range(C):\n",
    "            convs.append(RDB_Conv(G0 + c*G, G))\n",
    "        self.convs = nn.Sequential(*convs)\n",
    "\n",
    "        # Local Feature Fusion\n",
    "        self.LFF = nn.Conv2d(G0 + C*G, G0, 1, padding=0, stride=1)\n",
    "\n",
    "    def forward(self, x):\n",
    "        return self.LFF(self.convs(x)) + x\n",
    "\n",
    "class RDN(nn.Module):\n",
    "    def __init__(self, args):\n",
    "        super(RDN, self).__init__()\n",
    "        self.args = args\n",
    "        r = args.scale[0]\n",
    "        G0 = args.G0\n",
    "        kSize = args.RDNkSize\n",
    "\n",
    "        # number of RDB blocks, conv layers, out channels\n",
    "        self.D, C, G = args.RDNconfig\n",
    "        \"\"\"\n",
    "        {\n",
    "            'A': (20, 6, 32),\n",
    "            'B': (16, 8, 64),\n",
    "        }[args.RDNconfig]\n",
    "        \"\"\"\n",
    "\n",
    "        # Shallow feature extraction net\n",
    "        self.SFENet1 = nn.Conv2d(args.n_colors, G0, kSize, padding=(kSize-1)//2, stride=1)\n",
    "        self.SFENet2 = nn.Conv2d(G0, G0, kSize, padding=(kSize-1)//2, stride=1)\n",
    "\n",
    "        # Redidual dense blocks and dense feature fusion\n",
    "        self.RDBs = nn.ModuleList()\n",
    "        for i in range(self.D):\n",
    "            self.RDBs.append(\n",
    "                RDB(growRate0 = G0, growRate = G, nConvLayers = C)\n",
    "            )\n",
    "\n",
    "        # Global Feature Fusion\n",
    "        self.GFF = nn.Sequential(*[\n",
    "            nn.Conv2d(self.D * G0, G0, 1, padding=0, stride=1),\n",
    "            nn.Conv2d(G0, G0, kSize, padding=(kSize-1)//2, stride=1)\n",
    "        ])\n",
    "\n",
    "        if args.no_upsampling:\n",
    "            self.out_dim = G0\n",
    "        else:\n",
    "            self.out_dim = args.n_colors\n",
    "            # Up-sampling net\n",
    "            if r == 2 or r == 3:\n",
    "                self.UPNet = nn.Sequential(*[\n",
    "                    nn.Conv2d(G0, G * r * r, kSize, padding=(kSize-1)//2, stride=1),\n",
    "                    nn.PixelShuffle(r),\n",
    "                    nn.Conv2d(G, args.n_colors, kSize, padding=(kSize-1)//2, stride=1)\n",
    "                ])\n",
    "            elif r == 4:\n",
    "                self.UPNet = nn.Sequential(*[\n",
    "                    nn.Conv2d(G0, G * 4, kSize, padding=(kSize-1)//2, stride=1),\n",
    "                    nn.PixelShuffle(2),\n",
    "                    nn.Conv2d(G, G * 4, kSize, padding=(kSize-1)//2, stride=1),\n",
    "                    nn.PixelShuffle(2),\n",
    "                    nn.Conv2d(G, args.n_colors, kSize, padding=(kSize-1)//2, stride=1)\n",
    "                ])\n",
    "            else:\n",
    "                raise ValueError(\"scale must be 2 or 3 or 4.\")\n",
    "\n",
    "    def forward(self, x):\n",
    "        f__1 = self.SFENet1(x)\n",
    "        x  = self.SFENet2(f__1)\n",
    "\n",
    "        RDBs_out = []\n",
    "        for i in range(self.D):\n",
    "            x = self.RDBs[i](x)\n",
    "            RDBs_out.append(x)\n",
    "\n",
    "        x = self.GFF(torch.cat(RDBs_out,1))\n",
    "        x += f__1\n",
    "\n",
    "        if self.args.no_upsampling:\n",
    "            return x\n",
    "        else:\n",
    "            return self.UPNet(x)\n",
    "\n",
    "class GraphConvolution(nn.Module):\n",
    "\n",
    "    def __init__(self, input_feature_num, output_feature_num, add_bias=True, dtype=torch.float,\n",
    "                 batch_normal=True):\n",
    "        super().__init__()\n",
    "        # shapes\n",
    "\n",
    "        self.input_feature_num = input_feature_num\n",
    "        self.output_feature_num = output_feature_num\n",
    "        self.add_bias = add_bias\n",
    "        self.batch_normal = batch_normal\n",
    "\n",
    "        # params\n",
    "        latent_dim = 128\n",
    "        self.weight = FCBlock(128,2,input_feature_num, latent_dim)\n",
    "        self.bias = nn.Parameter(torch.randn(latent_dim,dtype=dtype))\n",
    "        self.transform = FCBlock(128,2,latent_dim, self.output_feature_num)\n",
    "        \n",
    "        self.sparse = True\n",
    "        #self.batch_norm = nn.BatchNorm1d(num_features = input_feature_num)\n",
    "            \n",
    "    def set_trainable(self, train=True):\n",
    "        for param in self.parameters():\n",
    "            param.requires_grad = train\n",
    "\n",
    "    def forward(self, x, adj):\n",
    "        \"\"\"\n",
    "        @param inp : adjacent: (batch, graph_num, graph_num) cat node_feature: (batch, graph_num, in_feature_num) -> (batch, graph_num, graph_num + in_feature_num)\n",
    "        @return:\n",
    "        \"\"\"\n",
    "        B, N, D = x.shape\n",
    "        node_feature = x\n",
    "\n",
    "        x = self.weight(node_feature)\n",
    "        #x = torch.nn.functional.normalize(x,p = 1.0, dim = -1, eps = 1e-5)\n",
    "\n",
    "        if self.sparse or isinstance(adj, torch.SparseTensor):\n",
    "            x = torch.spmm(adj,x[0]).unsqueeze(0)\n",
    "        else:\n",
    "            x = torch.matmul(adj,x[0])\n",
    "        #if self.add_bias:\n",
    "        x = x + self.bias.unsqueeze(0).unsqueeze(0).repeat(B,N,1)\n",
    "\n",
    "        x = self.transform(x)\n",
    "\n",
    "        #x = torch.nn.functional.normalize(x,p = 1.0, dim = -1, eps = 1e-5)\n",
    "\n",
    "        return x\n",
    "\n",
    "class GNNSoftPooling(nn.Module):\n",
    "    def __init__(self, input_feat_dim, output_node_num = 10):\n",
    "        super().__init__()\n",
    "        self.assignment_net = GraphConvolution(input_feat_dim, output_node_num)\n",
    "        self.feature_net =   GraphConvolution(input_feat_dim, input_feat_dim) \n",
    "    \n",
    "    def forward(self, x, adj):\n",
    "        B,N,D = x.shape\n",
    "        # B,N,N = adj.shape\n",
    "        if isinstance(adj, list):\n",
    "            output_node_features = []\n",
    "            output_new_adj = []\n",
    "            output_s_matrix = []\n",
    "            scale = 50\n",
    "            for i in range(len(adj)):\n",
    "                s_matrix = self.assignment_net(x[i:i+1], adj[i]) #[B,N,M]\n",
    "                \n",
    "                s_matrix = torch.softmax(s_matrix * scale , dim = 2)#.clamp(0.0+eps,1.0-eps)\n",
    "            \n",
    "                node_features = self.feature_net(x[i:i+1],adj[i]) #[B,N,D]\n",
    "                node_features = torch.einsum(\"bnm,bnd->bmd\",s_matrix,node_features) #[B,M,D]\n",
    "                # [Calculate New Cluster Adjacency]\n",
    "\n",
    "                adj[i] = adj[i]\n",
    "                #print(\"smt,adj\",s_matrix.max(),s_matrix.min(), adj[i].max(), adj[i].min())\n",
    "                #print(adj[i].shape, s_matrix.shape)\n",
    "                new_adj = torch.spmm(\n",
    "                    torch.spmm(\n",
    "                        s_matrix[0].permute(1,0),adj[i]\n",
    "                        ),s_matrix[0])\n",
    "                new_adj = new_adj / new_adj.max()\n",
    "                #print(\"new_adj\",new_adj[i].max(), new_adj[i].min())\n",
    "\n",
    "                output_node_features.append(node_features)\n",
    "                output_new_adj.append(new_adj)\n",
    "                output_s_matrix.append(s_matrix)\n",
    "\n",
    "            output_node_features = torch.cat(output_node_features, dim = 0)\n",
    "            output_s_matrix = torch.cat(output_s_matrix, dim = 0)\n",
    "        return output_node_features,output_new_adj,output_s_matrix\n",
    "\n",
    "def get_fourier_feature(grid, term = 7):\n",
    "    output_feature = []\n",
    "    for k in range(term):\n",
    "        output_feature.append(torch.sin(grid * (k + 1)))\n",
    "        output_feature.append(torch.cos(grid * (k + 1)))\n",
    "    output_feature = torch.cat(output_feature, dim = -1)\n",
    "    return output_feature\n",
    "\n",
    "class ObjectRender(nn.Module):\n",
    "    def __init__(self,config, conv_feature_dim):\n",
    "        super().__init__()\n",
    "        channel_dim = config.channel\n",
    "        spatial_dim = config.spatial_dim\n",
    "        fourier_dim = config.fourier_dim\n",
    "\n",
    "        self.conv_feature_dim = conv_feature_dim\n",
    "        self.render_block  = FCBlock(128,2,conv_feature_dim + spatial_dim + spatial_dim + 2*spatial_dim*fourier_dim,channel_dim)\n",
    "\n",
    "    def forward(self, latent, grid):\n",
    "        B,N,D = latent.shape\n",
    "        if len(grid.shape) == 4:\n",
    "            # grid: [B,W,H,2]\n",
    "            B, W, H, _ = grid.shape\n",
    "            expand_latent = latent.unsqueeze(2).unsqueeze(2)\n",
    "            expand_latent = expand_latent.repeat(1,1,W,H,1)\n",
    "            grid = grid.unsqueeze(1)\n",
    "            grid = grid.repeat(1,N,1,1,1)\n",
    "        if len(grid.shape) == 3:\n",
    "            # grid: [B,WH,2]\n",
    "            B, WH, _ = grid.shape\n",
    "            grid = grid.unsqueeze(1).repeat(1,N,1,1)\n",
    "            expand_latent = latent.unsqueeze(2).repeat(1,1,WH,1)\n",
    "        cat_feature = torch.cat([grid, expand_latent], dim = -1)\n",
    "        return self.render_block(cat_feature)\n",
    "\n",
    "\n",
    "class ValkyrNet(nn.Module):\n",
    "    def __init__(self, config):\n",
    "        super().__init__()\n",
    "        self.config = config\n",
    "        device = config.device\n",
    "        # construct the grid domain connection\n",
    "        self.imsize = config.imsize\n",
    "        self.perception_size = config.perception_size\n",
    "        # build the connection graph for the grid domain\n",
    "        self.spatial_coords = grid(self.imsize,self.imsize,device=device)\n",
    "        self.spatial_fourier_features = get_fourier_feature(self.spatial_coords, term = config.fourier_dim).to(device)\n",
    "        self.spatial_edges =  build_perception(self.imsize,self.perception_size,device = device).to_dense().to(device)\n",
    "        # [Grid Convs]\n",
    "        conv_feature_dim = config.conv_feature_dim\n",
    "        self.grid_convs = RDN(SimpleNamespace(G0=conv_feature_dim  ,RDNkSize=3,n_colors=3,RDNconfig=(4,3,16),scale=[2],no_upsampling=True))\n",
    "        \n",
    "        # [Diff Pool Construction]\n",
    "        hierarchy_nodes = config.hierarchy_construct \n",
    "        self.diff_pool = nn.ModuleList([\n",
    "            GNNSoftPooling(input_feat_dim = conv_feature_dim+2,output_node_num = node_num ) for node_num in hierarchy_nodes\n",
    "        ])\n",
    "        \n",
    "\n",
    "        # [Render Fields]\n",
    "        self.render_fields = nn.ModuleList([ObjectRender(config, conv_feature_dim) for _ in hierarchy_nodes])\n",
    "\n",
    "        self.conv2object_feature = nn.Linear(conv_feature_dim + 2, config.object_dim)\n",
    "        self.device = \"cuda:0\" if torch.cuda.is_available() else \"cpu\"\n",
    "    \n",
    "    def forward(self, x, verbose = 0):\n",
    "        outputs = {}\n",
    "        B,W,H,C = x.shape # input shape\n",
    "        device = self.device\n",
    "\n",
    "        # [Grid Convolution] produce initial feature in the grid domain \n",
    "        grid_conv_feature = self.grid_convs(x.permute(0,3,1,2)).to(device).permute(0,2,3,1)\n",
    "\n",
    "        _,_,_,D = grid_conv_feature.shape\n",
    "        coords_added_conv_feature = torch.cat(\n",
    "            [grid_conv_feature, self.spatial_coords.unsqueeze(0).repeat(B,1,1,1).to(device)], dim = 3\n",
    "        )\n",
    "        if verbose:print(\"coords_added_conv_feature:{}x{}x{}x{}\".format(*list(coords_added_conv_feature.shape) ))\n",
    "\n",
    "        coords_added_conv_feature = coords_added_conv_feature.reshape(B,W*H,(D+2))\n",
    "        coords_added_conv_feature = F.normalize(coords_added_conv_feature, dim = 2, p=1.0)\n",
    "       \n",
    "        # [DiffPool] each layer performs differentiable [Pn invariant] pooling \n",
    "\n",
    "        convs_features = []\n",
    "        cluster_assignments = []\n",
    "        curr_x = coords_added_conv_feature # base layer feature\n",
    "  \n",
    "        curr_edges = [self.spatial_edges for _ in range(B)] # base layer edges\n",
    "        convs_features.append(curr_x)\n",
    "        entropy_regular = 0.0 # initialize the entropy loss\n",
    "        loc_loss = 0.0        # localization loss\n",
    "        equi_loss = 0.0       # equillibrium loss\n",
    "        scene_tree = {\n",
    "            \"x\":[curr_x],\n",
    "            \"object_features\":[self.conv2object_feature(curr_x)],\n",
    "            \"object_scores\":[torch.ones(B,curr_x.shape[1]).to(self.device)],\n",
    "            \"connections\":[],\n",
    "            \"edges\":[self.spatial_edges]}\n",
    "        outputs[\"masks\"] = []\n",
    "\n",
    "        layer_reconstructions = []\n",
    "        layer_masks = [torch.ones(B,curr_x.shape[1]).to(self.device)]  # maintain a mask\n",
    "        for i,graph_pool in enumerate(self.diff_pool):\n",
    "            curr_x, curr_edges, assignment_matrix = graph_pool(curr_x, curr_edges)\n",
    "            B,N,M = assignment_matrix.shape\n",
    "            assignment_matrix = scene_tree[\"object_scores\"][-1].unsqueeze(2).repeat(1,1,M) * assignment_matrix\n",
    "            #assignment_matrix = F.normalize(assignment_matrix, dim = 2)\n",
    "\n",
    "            # previous level mask calculation\n",
    "            prev_mask = layer_masks[-1]\n",
    "            #print(prev_mask.shape, assignment_matrix.shape)\n",
    "            if len(prev_mask.shape) == 2:\n",
    "                layer_mask = assignment_matrix #[BxNxWxHx1]\n",
    "            else:layer_mask = torch.bmm(prev_mask,assignment_matrix)\n",
    "\n",
    "\n",
    "            layer_masks.append(layer_mask)\n",
    "            #print(layer_mask.shape)\n",
    "            exist_prob = torch.max(assignment_matrix,dim = 1).values\n",
    "            #exist_prob = torch.ones(B, assignment_matrix.shape[-1]).to(device)\n",
    "\n",
    "            # [Equivariance Loss]\n",
    "            equis =assignment_matrix.unsqueeze(1).unsqueeze(-1)\n",
    "            equi_loss += equillibrium_loss(equis)\n",
    "            \n",
    "            cluster_assignments.append(assignment_matrix)\n",
    "            convs_features.append(curr_x)\n",
    "\n",
    "            # [Scene Reconstruction]\n",
    "            syn_grid = torch.cat([self.spatial_coords.to(device)\\\n",
    "                                  ,self.spatial_fourier_features.to(device)], dim = -1).unsqueeze(0).repeat(B,1,1,1)\n",
    "\n",
    "            layer_recons = self.render_fields[i](\n",
    "                curr_x,\n",
    "                syn_grid\n",
    "                )\n",
    "\n",
    "            if verbose: print(\"reconstruction with shape: \", layer_recons.shape)\n",
    "            layer_reconstructions.append(layer_recons)\n",
    "            \n",
    "            if verbose:print(assignment_matrix.max(),assignment_matrix.min(), curr_edges[0].shape, curr_edges[0].max(), curr_edges[0].min())\n",
    "            \n",
    "            # [Regular Entropy Term]\n",
    "            \n",
    "            attention_mask = layer_mask\n",
    "            outputs[\"masks\"].append(attention_mask)\n",
    "            \n",
    "            points = self.spatial_coords.unsqueeze(0).repeat(B,1,1,1).reshape(B,W*H,2)\n",
    "            #print(attention_mask.shape, points.shape)\n",
    "            #pose_locals = evaluate_pose(points , attention_mask)\n",
    "            loc_loss += spatial_variance(points, attention_mask.permute(0,2,1), norm_type=\"l2\")\n",
    "            #equi_loss += equillibrium_loss(attention_mask)\n",
    "\n",
    "            entropy_regular += assignment_entropy(assignment_matrix)\n",
    "\n",
    "            # load results to the scene tree\n",
    "            scene_tree[\"x\"].append(curr_x)\n",
    "            scene_tree[\"object_features\"].append(self.conv2object_feature(curr_x))\n",
    "            scene_tree[\"object_scores\"].append(exist_prob)\n",
    "            scene_tree[\"connections\"].append(assignment_matrix)\n",
    "            scene_tree[\"edges\"].append(curr_edges)\n",
    "\n",
    "        # [Calculate Reconstruction at Each Layer]\n",
    "        outputs[\"reconstructions\"] = []\n",
    "\n",
    "        reconstruction_loss = 0.0\n",
    "\n",
    "        for i,recons in enumerate(layer_reconstructions):\n",
    "\n",
    "            B,N,W,H,C = recons.shape\n",
    "\n",
    "            exist_prob = scene_tree[\"object_scores\"][i+1]\\\n",
    "                .unsqueeze(-1).unsqueeze(-1).unsqueeze(-1).repeat(1,1,W,H,C) \n",
    "\n",
    "            mask = layer_masks[i+1].permute(0,2,1).reshape(B,N,W,H,1)\n",
    "\n",
    "            recons = recons * mask * exist_prob\n",
    "            \n",
    "            #layer_recon_loss = torch.nn.functional.mse_loss(recons, x.unsqueeze(1).repeat(1,N,1,1,1))\n",
    "            layer_recon_loss = torch.nn.functional.mse_loss(recons.sum(dim = 1), x)\n",
    "            reconstruction_loss += layer_recon_loss\n",
    "            outputs[\"reconstructions\"].append(recons)\n",
    "\n",
    "\n",
    "        # [Output the Scene Tree]\n",
    "        outputs[\"scene_tree\"] = scene_tree\n",
    "\n",
    "        # [Add all the loss terms]\n",
    "        outputs[\"losses\"] = {\"entropy\":entropy_regular,\"reconstruction\":reconstruction_loss,\"equi\":equi_loss,\"localization\":loc_loss}\n",
    "        return outputs\n",
    "\n",
    "def evaluate_pose(x, att):\n",
    "    # x: BN3, att: BKN\n",
    "    # ts: B3k1\n",
    "    att = att.unsqueeze(1).unsqueeze(-1)\n",
    "    x = x.permute(0,2,1)\n",
    "    pai = att.sum(dim=3, keepdim=True) # B1K11\n",
    "    att = att / torch.clamp(pai, min=1e-3)\n",
    "    ts = torch.sum(\n",
    "        att * x[:, :, None, :, None], dim=3) # B3K1\n",
    "    return ts.permute(0,2,1,3).squeeze(-1)\n",
    "\n",
    "def spatial_variance(x, att, norm_type=\"l2\"):\n",
    "    # att: BKN x: BN3\n",
    "    x = x.permute(0,2,1)\n",
    "    att = att.unsqueeze(1).unsqueeze(-1)\n",
    "    pai = att.sum(dim=3, keepdim=True) # B1K11\n",
    "    att = att / torch.clamp(pai, min=1e-3)\n",
    "    ts = torch.sum(\n",
    "        att * x[:, :, None, :, None], dim=3) # B3K1\n",
    "\n",
    "    x_centered = x[:, :, None] - ts # B3KN\n",
    "    x_centered = x_centered.permute(0, 2, 3, 1) # BKN3\n",
    "    att = att.squeeze(1) # BKN1\n",
    "    cov = torch.matmul(\n",
    "        x_centered.transpose(3, 2), att * x_centered) # BK33\n",
    "    \n",
    "    # l2 norm\n",
    "    vol = torch.diagonal(cov, dim1=-2, dim2=-1).sum(2) # BK\n",
    "    if norm_type == \"l2\":\n",
    "        vol = vol.norm(dim=1).mean()\n",
    "    elif norm_type == \"l1\":\n",
    "        vol = vol.sum(dim=1).mean()\n",
    "    else:\n",
    "        # vol, _ = torch.diagonal(cov, dim1=-2, dim2=-1).sum(2).max(dim=1)\n",
    "        raise NotImplementedError\n",
    "    return vol\n",
    "\n",
    "def assignment_entropy(s_matrix):\n",
    "    # s_matrix: B,N,M\n",
    "    EPS = 1e-6\n",
    "    output_entropy = 0\n",
    "    for b in range(s_matrix.shape[0]):\n",
    "        for i in range(s_matrix.shape[1]):\n",
    "            input_tensor = s_matrix[b][i:i+1,:].clamp(EPS, 1-EPS)\n",
    "\n",
    "            lsm = nn.LogSoftmax(dim = -1)\n",
    "            log_probs = lsm(input_tensor)\n",
    "            probs = torch.exp(log_probs)\n",
    "            p_log_p = log_probs * probs\n",
    "            entropy = -p_log_p.mean()\n",
    "            #print(entropy)\n",
    "            output_entropy += entropy\n",
    "    output_entropy *= 0\n",
    "    return output_entropy\n",
    "    \n",
    "\n",
    "def equillibrium_loss(att):\n",
    "    pai = att.sum(dim=3, keepdim=True) # B1K11\n",
    "    loss_att_amount = torch.var(pai.reshape(pai.shape[0], -1), dim=1).mean()\n",
    "    return loss_att_amount\n",
    "\n",
    "def build_perception(size,length,device):\n",
    "    edges = [[],[]]\n",
    "    for i in range(size):\n",
    "        for j in range(size):\n",
    "            # go for all the points on the grid\n",
    "            coord = [i,j];loc = i * size + j\n",
    "\n",
    "            for dx in range(-length,length+1):\n",
    "                for dy in range(-length,length+1):\n",
    "                    if i+dx < size and i+dx>=0 and j+dy<size and j+dy>=0:\n",
    "                        if (i+dx) * size + (j + dy) != loc:\n",
    "                            edges[0].append(loc)\n",
    "                            edges[1].append( (i+dx) * size + (j + dy))\n",
    "                            edges[0].append( (i+dx) * size + (j + dy))\n",
    "                            edges[1].append(loc)\n",
    "    outputs = torch.sparse_coo_tensor(edges, torch.ones(len(edges[0])), size = (size**2, size**2))\n",
    "    return outputs.to(device)\n",
    "\n",
    "def grid(width, height, device = \"cuda:0\" if torch.cuda.is_available() else \"cpu\"):\n",
    "    x = torch.linspace(0,1,width)\n",
    "    y = torch.linspace(0,1,height)\n",
    "    grid_x, grid_y = torch.meshgrid(x, y, indexing='ij')\n",
    "    return torch.cat([grid_x.unsqueeze(0),grid_y.unsqueeze(0)], dim = 0).permute(1,2,0)\n",
    "    "
   ]
  },
  {
   "cell_type": "code",
   "execution_count": 680,
   "metadata": {},
   "outputs": [],
   "source": [
    "config.perception_size = 3\n",
    "config.hierarchy_construct = [5,3,2]\n",
    "config.conv_feature_dim = 128\n",
    "model.scene_perception = ValkyrNet(config)\n",
    "\n",
    "perception_outputs = model.scene_perception(sample[\"image\"])\n",
    "scene_tree = perception_outputs[\"scene_tree\"]"
   ]
  },
  {
   "cell_type": "code",
   "execution_count": 681,
   "metadata": {},
   "outputs": [],
   "source": [
    "optimizer = torch.optim.Adam(model.parameters(), lr = 1e-3)\n",
    "optimizer.zero_grad()\n",
    "working_loss = 0\n",
    "for key in perception_outputs[\"losses\"]: working_loss += perception_outputs[\"losses\"][key]\n",
    "working_loss.backward()\n",
    "optimizer.step()"
   ]
  },
  {
   "cell_type": "code",
   "execution_count": 682,
   "metadata": {},
   "outputs": [],
   "source": [
    "\n",
    "def build_scene_tree(perception_outputs):\n",
    "    all_kwargs = []\n",
    "    scene_tree = perception_outputs[\"scene_tree\"]\n",
    "    scores = scene_tree[\"object_scores\"]\n",
    "    features = scene_tree[\"object_features\"]\n",
    "    connections = scene_tree[\"connections\"]\n",
    "\n",
    "    B = features[0].shape[0]\n",
    "    for b in range(B):\n",
    "        kw_scores, kw_features, kw_connections = [score[b] for score in scores], [feature[b] for feature in features], \\\n",
    "        [connection[b] for connection in connections]\n",
    "        kwargs = {\"features\":kw_features, \"end\":kw_scores, \"connections\":kw_connections}\n",
    "        all_kwargs.append(kwargs)\n",
    "    return all_kwargs\n"
   ]
  },
  {
   "cell_type": "code",
   "execution_count": 683,
   "metadata": {},
   "outputs": [],
   "source": [
    "scene_tree = perception_outputs[\"scene_tree\"]"
   ]
  },
  {
   "cell_type": "code",
   "execution_count": 684,
   "metadata": {},
   "outputs": [
    {
     "data": {
      "image/png": "[encoded data removed]",
      "text/plain": [
       "<Figure size 432x288 with 1 Axes>"
      ]
     },
     "metadata": {},
     "output_type": "display_data"
    }
   ],
   "source": [
    "b = 1\n",
    "vis_scores = [score[b].detach() for score in scene_tree[\"object_scores\"][1:]]\n",
    "vis_connections = [connect[b] for connect in scene_tree[\"connections\"][1:]]\n",
    "\n",
    "\n",
    "visualize_tree(vis_scores, vis_connections, scale = 1.618)\n"
   ]
  },
  {
   "cell_type": "code",
   "execution_count": 685,
   "metadata": {},
   "outputs": [
    {
     "name": "stdout",
     "output_type": "stream",
     "text": [
      "torch.Size([2, 16384, 5]) tensor(1., grad_fn=<MaxBackward1>) tensor(0., grad_fn=<MinBackward1>)\n",
      "tensor([[1., 1., 1.,  ..., 1., 1., 1.],\n",
      "        [1., 1., 1.,  ..., 1., 1., 1.]], grad_fn=<SumBackward1>)\n",
      "torch.Size([2, 16384, 3]) tensor(1., grad_fn=<MaxBackward1>) tensor(5.4651e-44, grad_fn=<MinBackward1>)\n",
      "tensor([[1., 1., 1.,  ..., 1., 1., 1.],\n",
      "        [1., 1., 1.,  ..., 1., 1., 1.]], grad_fn=<SumBackward1>)\n",
      "torch.Size([2, 16384, 2]) tensor(1., grad_fn=<MaxBackward1>) tensor(3.6743e-36, grad_fn=<MinBackward1>)\n",
      "tensor([[1., 1., 1.,  ..., 1., 1., 1.],\n",
      "        [1., 1., 1.,  ..., 1., 1., 1.]], grad_fn=<SumBackward1>)\n"
     ]
    }
   ],
   "source": [
    "\n",
    "for mask in perception_outputs[\"masks\"]:\n",
    "    print(mask.shape,mask.max(), mask.min())\n",
    "    print(torch.sum(mask, dim = 2))\n"
   ]
  },
  {
   "cell_type": "code",
   "execution_count": 686,
   "metadata": {},
   "outputs": [
    {
     "name": "stderr",
     "output_type": "stream",
     "text": [
      "/var/folders/tp/c2bzzvd17y35z8x_20mfhn700000gn/T/ipykernel_33112/63699579.py:47: MatplotlibDeprecationWarning: Auto-removal of overlapping axes is deprecated since 3.6 and will be removed two minor releases later; explicitly call ax.remove() as needed.\n",
      "  plt.subplot(1,batch_size,i + 1,frameon=False)\n"
     ]
    },
    {
     "data": {
      "image/png": "[encoded data removed]",
      "text/plain": [
       "<Figure size 288x144 with 1 Axes>"
      ]
     },
     "metadata": {
      "needs_background": "light"
     },
     "output_type": "display_data"
    },
    {
     "data": {
      "image/png": "[encoded data removed]",
      "text/plain": [
       "<Figure size 288x144 with 1 Axes>"
      ]
     },
     "metadata": {
      "needs_background": "light"
     },
     "output_type": "display_data"
    },
    {
     "data": {
      "image/png": "[encoded data removed]",
      "text/plain": [
       "<Figure size 432x288 with 1 Axes>"
      ]
     },
     "metadata": {},
     "output_type": "display_data"
    },
    {
     "data": {
      "image/png": "[encoded data removed]",
      "text/plain": [
       "<Figure size 432x288 with 1 Axes>"
      ]
     },
     "metadata": {},
     "output_type": "display_data"
    }
   ],
   "source": [
    "# [Visualize Predicate Segmentation]\n",
    "batch_kwargs = build_scene_tree(perception_outputs)\n",
    "#model.executor.effective_level = 3\n",
    "programs = [\"exist(scene())\",\"exist(filter(scene(),house))\"]\n",
    "for b in range(B):\n",
    "    kwargs = batch_kwargs[b]\n",
    "\n",
    "    q = programs[b]\n",
    "    q = model.executor.parse(q)\n",
    "    o = model.executor(q, **kwargs)\n",
    "    # [Visualize the Output Mask Scene Tree]\n",
    "    answer_distribution_binary(o[\"end\"].sigmoid().cpu().detach())\n",
    "    plt.show()\n",
    "\n",
    "\n",
    "programs = [\"scene()\",\"filter(scene(),house)\"]\n",
    "for b in range(B):\n",
    "    kwargs = batch_kwargs[b]\n",
    "    q = programs[b]\n",
    "    q = model.executor.parse(q)\n",
    "    o = model.executor(q, **kwargs)\n",
    "\n",
    "    # [Visualize the Output Mask Scene Tree]\n",
    "    vis_connections = [connect[b] for connect in scene_tree[\"connections\"][1:]]\n",
    "    vis_scores = [o[\"end\"][i].sigmoid().cpu().detach() for i in range(4)][1:]\n",
    "    \n",
    "    visualize_tree(vis_scores, vis_connections, scale = 1.618)\n",
    "    plt.show()\n",
    "\n",
    "#masks = calculate_masks()\n"
   ]
  },
  {
   "cell_type": "code",
   "execution_count": 687,
   "metadata": {},
   "outputs": [
    {
     "name": "stdout",
     "output_type": "stream",
     "text": [
      "[1.000000e+00 3.674283e-36]\n",
      "[1.0000000e+00 5.7453237e-44 2.1684095e-16]\n",
      "[9.8090893e-45 2.1278682e-20 1.0000000e+00 1.0577211e-25 2.1684095e-16]\n",
      "Max: 1.0 Min: 1.0\n"
     ]
    },
    {
     "data": {
      "image/png": "[encoded data removed]",
      "text/plain": [
       "<Figure size 432x288 with 1 Axes>"
      ]
     },
     "metadata": {
      "needs_background": "light"
     },
     "output_type": "display_data"
    },
    {
     "name": "stdout",
     "output_type": "stream",
     "text": [
      "Max: 1.0 Min: 1.0\n"
     ]
    },
    {
     "data": {
      "image/png": "[encoded data removed]",
      "text/plain": [
       "<Figure size 432x288 with 1 Axes>"
      ]
     },
     "metadata": {
      "needs_background": "light"
     },
     "output_type": "display_data"
    },
    {
     "name": "stdout",
     "output_type": "stream",
     "text": [
      "Max: 1.0 Min: 1.0\n"
     ]
    },
    {
     "data": {
      "image/png": "[encoded data removed]",
      "text/plain": [
       "<Figure size 432x288 with 1 Axes>"
      ]
     },
     "metadata": {
      "needs_background": "light"
     },
     "output_type": "display_data"
    },
    {
     "name": "stderr",
     "output_type": "stream",
     "text": [
      "/var/folders/tp/c2bzzvd17y35z8x_20mfhn700000gn/T/ipykernel_33112/2137611598.py:27: MatplotlibDeprecationWarning: Auto-removal of overlapping axes is deprecated since 3.6 and will be removed two minor releases later; explicitly call ax.remove() as needed.\n",
      "  plt.subplot(1,N,i + 1)\n"
     ]
    },
    {
     "data": {
      "image/png": "[encoded data removed]",
      "text/plain": [
       "<Figure size 432x288 with 5 Axes>"
      ]
     },
     "metadata": {
      "needs_background": "light"
     },
     "output_type": "display_data"
    },
    {
     "data": {
      "text/plain": [
       "<matplotlib.image.AxesImage at 0x108a642b0>"
      ]
     },
     "execution_count": 687,
     "metadata": {},
     "output_type": "execute_result"
    },
    {
     "data": {
      "image/png": "[encoded data removed]",
      "text/plain": [
       "<Figure size 432x288 with 1 Axes>"
      ]
     },
     "metadata": {
      "needs_background": "light"
     },
     "output_type": "display_data"
    }
   ],
   "source": [
    "def calculate_masks(scores, connections):\n",
    "    all_masks = []\n",
    "    for i in range(len(connections)):\n",
    "        curr_mask = scores[i+1].unsqueeze(-1)\n",
    "        for connection in reversed(connections[:i+1]):\n",
    "            curr_mask = torch.bmm(connection, curr_mask) # [BxNxM],[BxM]\n",
    "        all_masks.append(curr_mask)\n",
    "    return all_masks\n",
    "\n",
    "vis_score = scene_tree[\"object_scores\"]\n",
    "#vis_score[-1][0][1] = 0.5\n",
    "print(vis_score[-1][0].cpu().detach().numpy())\n",
    "print(vis_score[-2][0].cpu().detach().numpy())\n",
    "print(vis_score[-3][0].cpu().detach().numpy())\n",
    "all_masks = calculate_masks(vis_score,scene_tree[\"connections\"])\n",
    "\n",
    "for mask in all_masks:\n",
    "    plt.axis(\"off\")\n",
    "    plt.imshow(mask[0].reshape(128,128).detach(), cmap = \"bone\")\n",
    "    print(\"Max:\",float(mask[0].max()),\"Min:\",float(mask[0].min()))\n",
    "    plt.show()\n",
    "\n",
    "plt.axis(\"off\")\n",
    "mask = scene_tree[\"connections\"][0].reshape(2,128,128,5).detach()\n",
    "N = 5\n",
    "for i in range(N):\n",
    "    plt.subplot(1,N,i + 1)\n",
    "    plt.axis(\"off\")\n",
    "    plt.imshow(mask[0,:,:,i])\n",
    "    plt.axis(\"off\")\n",
    "plt.show()\n",
    "\n",
    "plt.axis(\"off\")\n",
    "plt.imshow(sample[\"image\"][0])"
   ]
  },
  {
   "cell_type": "code",
   "execution_count": 688,
   "metadata": {},
   "outputs": [
    {
     "name": "stdout",
     "output_type": "stream",
     "text": [
      "tensor(4.2298)\n"
     ]
    }
   ],
   "source": [
    "\n",
    "x = torch.randn(2, 100, 2)\n",
    "attn = (torch.randn(2,5,100 ) ** 2).clamp(0.,1.0)\n",
    "\n",
    "local_loss = spatial_variance(x, attn)\n",
    "print(local_loss)"
   ]
  },
  {
   "cell_type": "code",
   "execution_count": 689,
   "metadata": {},
   "outputs": [
    {
     "name": "stdout",
     "output_type": "stream",
     "text": [
      "tensor(1.0385)\n",
      "torch.Size([1, 1, 3, 2, 1])\n",
      "tensor(0.0633)\n"
     ]
    }
   ],
   "source": [
    "def assignment_entropy(s_matrix):\n",
    "    # s_matrix: B,N,M\n",
    "    EPS = 1e-6\n",
    "    output_entropy = 0\n",
    "    for b in range(s_matrix.shape[0]):\n",
    "        for i in range(s_matrix.shape[1]):\n",
    "            input_tensor = s_matrix[b][i:i+1,:].clamp(EPS, 1-EPS)\n",
    "\n",
    "            lsm = nn.LogSoftmax(dim = -1)\n",
    "            log_probs = lsm(input_tensor)\n",
    "            probs = torch.exp(log_probs)\n",
    "            p_log_p = log_probs * probs\n",
    "            entropy = -p_log_p.mean()\n",
    "            #print(entropy)\n",
    "            output_entropy += entropy\n",
    "\n",
    "    return output_entropy\n",
    "    \n",
    "\n",
    "def equillibrium_loss(att):\n",
    "    pai = att.sum(dim=3, keepdim=True) # B1K11\n",
    "    loss_att_amount = torch.var(pai.reshape(pai.shape[0], -1), dim=1).mean()\n",
    "    return loss_att_amount\n",
    "\n",
    "s_matrix = torch.tensor([\n",
    "    [0.5,0.4],\n",
    "    [0.2,0.2],\n",
    "    [0.3,0.4],\n",
    "]).unsqueeze(0)\n",
    "\n",
    "entropy_loss = assignment_entropy(s_matrix)\n",
    "print(entropy_loss)\n",
    "\n",
    "\n",
    "equis =s_matrix.unsqueeze(1).unsqueeze(-1)\n",
    "print(equis.shape)\n",
    "equi_loss = equillibrium_loss(equis)\n",
    "print(equi_loss)"
   ]
  },
  {
   "cell_type": "code",
   "execution_count": 690,
   "metadata": {},
   "outputs": [
    {
     "name": "stdout",
     "output_type": "stream",
     "text": [
      "tensor([[0., 1.],\n",
      "        [1., 0.]])\n",
      "tensor([[0.7311, 0.2689],\n",
      "        [0.7311, 0.2689],\n",
      "        [0.2689, 0.7311]])\n"
     ]
    }
   ],
   "source": [
    "S = torch.tensor([\n",
    "    [1, 0],\n",
    "    [1, 0],\n",
    "    [0, 1],\n",
    "]).float()\n",
    "\n",
    "A = torch.tensor([\n",
    "    [0, 0, 1],\n",
    "    [0, 0, 0],\n",
    "    [1, 0, 0]\n",
    "]).float()\n",
    "\n",
    "new_adj = torch.matmul(S.permute(1,0), torch.matmul(A, S))\n",
    "print(new_adj)\n",
    "\n",
    "normalize = torch.softmax(S, dim = 1)\n",
    "print(normalize)\n"
   ]
  },
  {
   "cell_type": "code",
   "execution_count": 691,
   "metadata": {},
   "outputs": [
    {
     "name": "stdout",
     "output_type": "stream",
     "text": [
      "dirs torch.Size([64, 64, 3])\n",
      "rays_d torch.Size([64, 64, 3])\n",
      "rays_o torch.Size([64, 64, 3])\n"
     ]
    }
   ],
   "source": [
    "from utils.render import *\n",
    "\n",
    "\n",
    "H, W = (64, 64)\n",
    "K = ((1, 0, 2),\n",
    "     (0, 1, 2),\n",
    "     (0, 0, 1))\n",
    "\n",
    "c2w = torch.tensor([\n",
    "    [1, 0, 0, 0],\n",
    "    [0, 1, 0, 0],\n",
    "    [0, 0, 1, 0],\n",
    "])\n",
    "\n",
    "rays_o, rays_d = get_rays(H, W, K, c2w, 0, 0, 0)"
   ]
  }
 ],
 "metadata": {
  "interpreter": {
   "hash": "a47e46093c771f9510c4aabf3710bfb1355e5f870a13f8c22092f45d4d23626d"
  },
  "kernelspec": {
   "display_name": "Python 3.9.13 ('Melkor')",
   "language": "python",
   "name": "python3"
  },
  "language_info": {
   "codemirror_mode": {
    "name": "ipython",
    "version": 3
   },
   "file_extension": ".py",
   "mimetype": "text/x-python",
   "name": "python",
   "nbconvert_exporter": "python",
   "pygments_lexer": "ipython3",
   "version": "3.9.13"
  },
  "orig_nbformat": 4
 },
 "nbformat": 4,
 "nbformat_minor": 2
}
