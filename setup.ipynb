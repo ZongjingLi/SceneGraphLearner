{
 "cells": [
  {
   "cell_type": "code",
   "execution_count": null,
   "metadata": {},
   "outputs": [],
   "source": [
    "# Download the Model Package\n",
    "!git clone https://github.com/ZongjingLi/SceneGraphLearner.git"
   ]
  },
  {
   "cell_type": "code",
   "execution_count": null,
   "metadata": {},
   "outputs": [],
   "source": [
    "# [To Install Environment Manually]\n",
    "!pip install scipy\n",
    "!pip install networkx\n",
    "!pip install gym\n",
    "!pip install pygame\n",
    "!pip install pycocotools\n",
    "!pip install opencv-python\n",
    "!pip install imageio\n",
    "!pip install scikit-image\n",
    "!pip install pandas\n",
    "!pip install opendatasets \n",
    "!pip install tensorflow\n",
    "!pip install tinyenv"
   ]
  },
  {
   "cell_type": "code",
   "execution_count": null,
   "metadata": {},
   "outputs": [],
   "source": [
    "# Download and setup some packages\n",
    "!git clone https://github.com/ZongjingLi/Karanir.git\n",
    "!pip install /Users/melkor/Documents/GitHub/SceneGraphLearner/Karanir"
   ]
  },
  {
   "cell_type": "code",
   "execution_count": null,
   "metadata": {},
   "outputs": [],
   "source": [
    "# [Download Necessay Dataset]\n",
    "import opendatasets as od\n",
    "import pandas\n",
    "\n",
    "{\"username\":\"rinsun\",\"key\":\"ce45bf131ef12e0f91231b91753e164f\"}\n",
    "\n",
    "# [StructureNet]\n",
    "od.download(\"https://www.kaggle.com/datasets/rinsun/structurenet\",\"autodl-tmp\")\n",
    "od.download(\"https://www.kaggle.com/datasets/rinsun/structureqa\",\"autodl-tmp\")\n",
    "\n",
    "#od.download(\"https://www.kaggle.com/datasets/rinsun/multistructnet\",\"autodl-tmp\")"
   ]
  }
 ],
 "metadata": {
  "language_info": {
   "name": "python"
  },
  "orig_nbformat": 4
 },
 "nbformat": 4,
 "nbformat_minor": 2
}
